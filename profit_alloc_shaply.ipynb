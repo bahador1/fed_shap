{
  "cells": [
    {
      "cell_type": "markdown",
      "metadata": {
        "id": "view-in-github",
        "colab_type": "text"
      },
      "source": [
        "<a href=\"https://colab.research.google.com/github/bahador1/fed_shap/blob/main/profit_alloc_shaply.ipynb\" target=\"_parent\"><img src=\"https://colab.research.google.com/assets/colab-badge.svg\" alt=\"Open In Colab\"/></a>"
      ]
    },
    {
      "cell_type": "markdown",
      "id": "23df3bca",
      "metadata": {
        "id": "23df3bca"
      },
      "source": [
        "# weighted FedAvg using shap\n",
        "\n",
        "- test the effectiveness of *profit allocation using Shapley Value* in Horizontal Federated Learning systems.\n",
        "\n",
        "- The system has the following customizable functions:\n"
      ]
    },
    {
      "cell_type": "markdown",
      "source": [
        "## Import libraries"
      ],
      "metadata": {
        "id": "LhOjwFjgtIJF"
      },
      "id": "LhOjwFjgtIJF"
    },
    {
      "cell_type": "code",
      "execution_count": 1,
      "id": "b9ef543f",
      "metadata": {
        "id": "b9ef543f",
        "colab": {
          "base_uri": "https://localhost:8080/"
        },
        "outputId": "4228762a-01d4-4f2e-be47-963614c2b1fc"
      },
      "outputs": [
        {
          "output_type": "execute_result",
          "data": {
            "text/plain": [
              "<torch._C.Generator at 0x7b7beaf814f0>"
            ]
          },
          "metadata": {},
          "execution_count": 1
        }
      ],
      "source": [
        "# Load libraries\n",
        "import math, random, copy, os, glob, time\n",
        "from itertools import chain, combinations, permutations\n",
        "from pprint import pprint\n",
        "\n",
        "import torch\n",
        "from torch import nn\n",
        "from torch.nn import functional as F\n",
        "from torch.utils.data import DataLoader\n",
        "import torchvision as tv\n",
        "from torchvision import datasets, transforms as T\n",
        "\n",
        "import numpy as np\n",
        "import matplotlib.pyplot as plt\n",
        "from sklearn.metrics import f1_score\n",
        "\n",
        "# Standardize randomness\n",
        "random.seed(0)\n",
        "np.random.seed(0)\n",
        "torch.manual_seed(0)"
      ]
    },
    {
      "cell_type": "markdown",
      "source": [
        "## initializations and definitions(ds, model )"
      ],
      "metadata": {
        "id": "7oCXQGSh5nIz"
      },
      "id": "7oCXQGSh5nIz"
    },
    {
      "cell_type": "markdown",
      "source": [
        "### Define system hyper-parameters [ EDIT HERE ]"
      ],
      "metadata": {
        "id": "EMhYlYkZtMHc"
      },
      "id": "EMhYlYkZtMHc"
    },
    {
      "cell_type": "code",
      "execution_count": 2,
      "id": "e4f9a275",
      "metadata": {
        "id": "e4f9a275"
      },
      "outputs": [],
      "source": [
        "## USER DEFINED EXPERIMENT PARAMETERS\n",
        "\n",
        "# Federated network settings\n",
        "MODEL_SIZE = 'MEDIUM'            # SMALL / MEDIUM / LARGE\n",
        "REWARD_METRICS = ['LOSS']        # LOSS / ACCURACY / F1 - Metrics sum to select best model for each communication round\n",
        "COMM_ROUNDS = 10                 # Number of communication rounds between server and clients\n",
        "SHAPLEY_FILTER = False           # True / False - If true, select only the best coalition model per communication round\n",
        "COALITION_LIMIT = 0              # Limits the size of individual coalitions (Set as non-positive number to disable limit)\n",
        "\n",
        "# Training dataset settings\n",
        "DATASET_TYPE = 'MNIST'      # MNIST / EMNIST\n",
        "DISTRIBUTION_TYPE = 'IID'   # IID / NIID_1 / NIID_2 / NIID_12/ TODO: noisey\n",
        "BATCH_SIZE = 64             # Dataset batch size\n",
        "\n",
        "# Training hyper-parameters and functions for the Federated modeel\n",
        "INIT_LEARN_RATE = 0.1\n",
        "LOSS_FUNC = nn.CrossEntropyLoss\n",
        "OPTIMIZER = torch.optim.SGD\n",
        "MOMENTUM = .9\n",
        "WEIGHT_DECAY = 1e-5\n",
        "EPOCHS = 10                  # Number of epochs each client will train over.\n",
        "\n",
        "# Client behaviours each parameter represents the number of clients running in the network\n",
        "NUM_NORMAL_CLIENTS = 4          # Client trains model and returns updated parameters\n",
        "NUM_FREERIDER_CLIENTS = 0       # Client does not train model and returns original parameters\n",
        "NUM_ADVERSARIAL_CLIENTS = 1     # Client returns randomized parameters TODO: to see if shapley works"
      ]
    },
    {
      "cell_type": "markdown",
      "source": [
        "### Initialize system and define helper functions\n",
        "- `createDirectory`, `deleteAllModels`, `aggListOfDict`, `powerset`"
      ],
      "metadata": {
        "id": "elz2GPwms4wW"
      },
      "id": "elz2GPwms4wW"
    },
    {
      "cell_type": "code",
      "execution_count": 3,
      "id": "06448f18",
      "metadata": {
        "id": "06448f18"
      },
      "outputs": [],
      "source": [
        "# Get cpu or gpu device for training.\n",
        "device = \"cuda\" if torch.cuda.is_available() else \"cpu\"\n",
        "# print(f\"Using {device} device\")\n",
        "\n",
        "# Create subdirectories\n",
        "model_path = './models'\n",
        "\n",
        "def createDirectory(path):\n",
        "    pathExists = os.path.exists(path)\n",
        "    if not pathExists:\n",
        "        # print(f'\"{path}\" does not exist.')\n",
        "        os.makedirs(path)\n",
        "        # print(f'\"{path}\" created.')\n",
        "\n",
        "# createDirectory(model_path)\n",
        "\n",
        "# Delete existing .pt files from previous run\n",
        "def deleteAllModels(path):\n",
        "    filepaths = glob.glob(f'{path}/**/*.pt', recursive=True)\n",
        "    for filepath in filepaths:\n",
        "        os.remove(filepath)\n",
        "        # print(f'\"{filepath}\" deleted.')\n",
        "\n",
        "deleteAllModels(model_path)\n",
        "\n",
        "# Complete\n",
        "# print('\\nLibraries and directories initialized.')"
      ]
    },
    {
      "cell_type": "code",
      "source": [
        "# Helper functions\n",
        "\n",
        "# Recipe modified from Python itertools documentation:\n",
        "# https://docs.python.org/3/library/itertools.html#itertools-recipes\n",
        "def powerset(iterable, no_null = True):\n",
        "    \"powerset([1,2,3]) --> (if !no_null) (1,) (2,) (3,) (1,2) (1,3) (2,3) (1,2,3)\"\n",
        "    s = list(iterable)\n",
        "    return chain.from_iterable(combinations(s, r) for r in range(1 if no_null else 0, len(s)+1))\n",
        "\n",
        "def aggListOfDicts(lst):\n",
        "    '''\n",
        "        Combines a list of dictionaries into a dictionary of lists\n",
        "    '''\n",
        "    agg = {}\n",
        "    for dct in lst:\n",
        "        for name, val in dct.items():\n",
        "            if name in agg:\n",
        "                agg[name] += [val]\n",
        "            else:\n",
        "                agg[name] = [val]\n",
        "\n",
        "    return agg"
      ],
      "metadata": {
        "id": "ZB5jX0a4BEWV"
      },
      "id": "ZB5jX0a4BEWV",
      "execution_count": 4,
      "outputs": []
    },
    {
      "cell_type": "markdown",
      "id": "9e1d7f0e",
      "metadata": {
        "id": "9e1d7f0e"
      },
      "source": [
        "### Setup train and test datasets and dataloaders"
      ]
    },
    {
      "cell_type": "code",
      "execution_count": 5,
      "id": "501bcfb6",
      "metadata": {
        "id": "501bcfb6",
        "colab": {
          "base_uri": "https://localhost:8080/"
        },
        "outputId": "6e223209-4dc6-4106-e230-aa4ed9d4feef"
      },
      "outputs": [
        {
          "output_type": "stream",
          "name": "stdout",
          "text": [
            "Downloading http://yann.lecun.com/exdb/mnist/train-images-idx3-ubyte.gz\n",
            "Downloading http://yann.lecun.com/exdb/mnist/train-images-idx3-ubyte.gz to data/MNIST/raw/train-images-idx3-ubyte.gz\n"
          ]
        },
        {
          "output_type": "stream",
          "name": "stderr",
          "text": [
            "100%|██████████| 9912422/9912422 [00:00<00:00, 144363116.05it/s]\n"
          ]
        },
        {
          "output_type": "stream",
          "name": "stdout",
          "text": [
            "Extracting data/MNIST/raw/train-images-idx3-ubyte.gz to data/MNIST/raw\n",
            "\n",
            "Downloading http://yann.lecun.com/exdb/mnist/train-labels-idx1-ubyte.gz\n",
            "Downloading http://yann.lecun.com/exdb/mnist/train-labels-idx1-ubyte.gz to data/MNIST/raw/train-labels-idx1-ubyte.gz\n"
          ]
        },
        {
          "output_type": "stream",
          "name": "stderr",
          "text": [
            "100%|██████████| 28881/28881 [00:00<00:00, 39991975.51it/s]\n"
          ]
        },
        {
          "output_type": "stream",
          "name": "stdout",
          "text": [
            "Extracting data/MNIST/raw/train-labels-idx1-ubyte.gz to data/MNIST/raw\n",
            "\n",
            "Downloading http://yann.lecun.com/exdb/mnist/t10k-images-idx3-ubyte.gz\n",
            "Downloading http://yann.lecun.com/exdb/mnist/t10k-images-idx3-ubyte.gz to data/MNIST/raw/t10k-images-idx3-ubyte.gz\n"
          ]
        },
        {
          "output_type": "stream",
          "name": "stderr",
          "text": [
            "100%|██████████| 1648877/1648877 [00:00<00:00, 31493417.05it/s]\n"
          ]
        },
        {
          "output_type": "stream",
          "name": "stdout",
          "text": [
            "Extracting data/MNIST/raw/t10k-images-idx3-ubyte.gz to data/MNIST/raw\n",
            "\n",
            "Downloading http://yann.lecun.com/exdb/mnist/t10k-labels-idx1-ubyte.gz\n",
            "Downloading http://yann.lecun.com/exdb/mnist/t10k-labels-idx1-ubyte.gz to data/MNIST/raw/t10k-labels-idx1-ubyte.gz\n"
          ]
        },
        {
          "output_type": "stream",
          "name": "stderr",
          "text": [
            "100%|██████████| 4542/4542 [00:00<00:00, 4067149.61it/s]\n"
          ]
        },
        {
          "output_type": "stream",
          "name": "stdout",
          "text": [
            "Extracting data/MNIST/raw/t10k-labels-idx1-ubyte.gz to data/MNIST/raw\n",
            "\n"
          ]
        }
      ],
      "source": [
        "# Download training and test data from open datasets\n",
        "\n",
        "# MLP model uses Fashion-MNIST\n",
        "if DATASET_TYPE == 'MNIST':\n",
        "  train_data = datasets.MNIST(\n",
        "      root=\"data\",\n",
        "      train=True,\n",
        "      download=True,\n",
        "      transform=T.ToTensor(),\n",
        "  )\n",
        "\n",
        "  test_data = datasets.MNIST(\n",
        "      root=\"data\",\n",
        "      train=False,\n",
        "      download=True,\n",
        "      transform=T.ToTensor(),\n",
        "  )\n",
        "\n",
        "  CLASS_SIZE = 10\n",
        "\n",
        "# print(f'{DATASET_TYPE} training dataset has {len(train_data)} samples.')\n",
        "# print(f'{DATASET_TYPE} test dataset has {len(test_data)} samples.')\n",
        "\n"
      ]
    },
    {
      "cell_type": "code",
      "source": [
        "type(train_data[0][0]), type(train_data[0][1])"
      ],
      "metadata": {
        "colab": {
          "base_uri": "https://localhost:8080/"
        },
        "id": "USSc6VA_txeQ",
        "outputId": "d8767863-8326-4ffd-8c5d-10352e6828c9"
      },
      "id": "USSc6VA_txeQ",
      "execution_count": 6,
      "outputs": [
        {
          "output_type": "execute_result",
          "data": {
            "text/plain": [
              "(torch.Tensor, int)"
            ]
          },
          "metadata": {},
          "execution_count": 6
        }
      ]
    },
    {
      "cell_type": "code",
      "execution_count": 7,
      "id": "1705b7c1",
      "metadata": {
        "id": "1705b7c1"
      },
      "outputs": [],
      "source": [
        "# Functions to split dataset based on IID or Non-IID selection\n",
        "\n",
        "def prepareIID(dataset, num_clients):\n",
        "    '''\n",
        "        Prepares IID training datasets for each client\n",
        "    '''\n",
        "    dataset_split = [[] for i in range(num_clients)]\n",
        "\n",
        "    for idx, sample in enumerate(dataset):\n",
        "        dataset_split[idx%num_clients] += [sample]\n",
        "\n",
        "    return dataset_split\n",
        "\n",
        "def prepareNIID1(dataset, num_clients):\n",
        "    '''\n",
        "        Prepares NIID-1 training datasets for each client (Overlapping sample sets)\n",
        "    '''\n",
        "    dataset_split = [[] for i in range(num_clients)]\n",
        "\n",
        "    for idx, sample in enumerate(dataset):\n",
        "        dataset_split[idx%num_clients] += [random.choice(dataset)]\n",
        "\n",
        "    return dataset_split\n",
        "\n",
        "def prepareNIID2(dataset, num_clients):\n",
        "    '''\n",
        "        Prepares NIID-1 training datasets for each client (Unequal data distribution)\n",
        "    '''\n",
        "    dataset_split = [[] for i in range(num_clients)]\n",
        "\n",
        "    for idx, sample in enumerate(dataset):\n",
        "        dataset_split[random.randint(0,num_clients-1)] += [sample]\n",
        "\n",
        "    return dataset_split\n",
        "\n",
        "def prepareNIID12(dataset, num_clients):\n",
        "    '''\n",
        "        Prepares NIID-1+2 training datasets for each client\n",
        "        (Overlapping sample sets + Unequal data distribution)\n",
        "    '''\n",
        "    dataset_split = [[] for i in range(num_clients)]\n",
        "\n",
        "    for sample in dataset:\n",
        "        dataset_split[random.randint(0,num_clients-1)] += [random.choice(dataset)]\n",
        "\n",
        "    return dataset_split"
      ]
    },
    {
      "cell_type": "code",
      "execution_count": 8,
      "id": "46c09179-8d6a-405a-8531-b8fdef6d2aea",
      "metadata": {
        "colab": {
          "base_uri": "https://localhost:8080/"
        },
        "id": "46c09179-8d6a-405a-8531-b8fdef6d2aea",
        "outputId": "f6b30752-3b77-44f9-d98e-5649e7eb1121"
      },
      "outputs": [
        {
          "output_type": "stream",
          "name": "stdout",
          "text": [
            "Shape of X [N, C, H, W]: torch.Size([64, 1, 28, 28])\n",
            "Shape of y: torch.Size([64]) torch.int64\n"
          ]
        }
      ],
      "source": [
        "# Split training dataset for clients\n",
        "NUM_OF_CLIENTS = NUM_NORMAL_CLIENTS + NUM_FREERIDER_CLIENTS + NUM_ADVERSARIAL_CLIENTS\n",
        "if DISTRIBUTION_TYPE == 'IID':\n",
        "    train_datasets = prepareIID(train_data, NUM_OF_CLIENTS)\n",
        "elif DISTRIBUTION_TYPE == 'NIID_1':\n",
        "    train_datasets = prepareNIID1(train_data, NUM_OF_CLIENTS)\n",
        "elif DISTRIBUTION_TYPE == 'NIID_2':\n",
        "    train_datasets = prepareNIID2(train_data, NUM_OF_CLIENTS)\n",
        "elif DISTRIBUTION_TYPE == 'NIID_12':\n",
        "    train_datasets = prepareNIID12(train_data, NUM_OF_CLIENTS)\n",
        "\n",
        "train_dataloaders = [DataLoader(train_dataset, batch_size=BATCH_SIZE) for train_dataset in train_datasets]\n",
        "\n",
        "# Sanity check a training dataloader\n",
        "for X, y in train_dataloaders[0]:\n",
        "    print(f\"Shape of X [N, C, H, W]: {X.shape}\")\n",
        "    print(f\"Shape of y: {y.shape} {y.dtype}\")\n",
        "    break"
      ]
    },
    {
      "cell_type": "code",
      "source": [
        "# Create test dataloader.\n",
        "test_dataloader = DataLoader(test_data, batch_size=BATCH_SIZE*2)\n",
        "\n",
        "# Sanity check test dataloader\n",
        "for X, y in test_dataloader:\n",
        "    print(f\"Shape of X [N, C, H, W]: {X.shape}\")\n",
        "    print(f\"Shape of y: {y.shape} {y.dtype}\")\n",
        "    break"
      ],
      "metadata": {
        "colab": {
          "base_uri": "https://localhost:8080/"
        },
        "id": "yBhE7HtAffR0",
        "outputId": "6437f7fb-948d-4366-92ed-b07eb06369c2"
      },
      "id": "yBhE7HtAffR0",
      "execution_count": 9,
      "outputs": [
        {
          "output_type": "stream",
          "name": "stdout",
          "text": [
            "Shape of X [N, C, H, W]: torch.Size([128, 1, 28, 28])\n",
            "Shape of y: torch.Size([128]) torch.int64\n"
          ]
        }
      ]
    },
    {
      "cell_type": "markdown",
      "id": "83c3c954",
      "metadata": {
        "id": "83c3c954"
      },
      "source": [
        "### Define neural nework models/and checkpoints functions"
      ]
    },
    {
      "cell_type": "code",
      "execution_count": 10,
      "id": "370f127a",
      "metadata": {
        "id": "370f127a"
      },
      "outputs": [],
      "source": [
        "# Define models\n",
        "class MediumMLP(nn.Module):\n",
        "    '''\n",
        "        Multi-Layer Perceptron\n",
        "    '''\n",
        "    def __init__(self):\n",
        "        super(MediumMLP, self).__init__()\n",
        "        self.flatten = nn.Flatten()\n",
        "        self.linear_relu_stack = nn.Sequential(\n",
        "            nn.Linear(28*28, 512),\n",
        "            nn.ReLU(),\n",
        "            nn.Linear(512, 512),\n",
        "            nn.ReLU(),\n",
        "            nn.Linear(512, 512),\n",
        "            nn.ReLU(),\n",
        "            nn.Linear(512, CLASS_SIZE)\n",
        "        )\n",
        "\n",
        "    def forward(self, x):\n",
        "        x = self.flatten(x)\n",
        "        logits = self.linear_relu_stack(x)\n",
        "        return logits\n"
      ]
    },
    {
      "cell_type": "code",
      "execution_count": 11,
      "id": "a75f620a",
      "metadata": {
        "id": "a75f620a"
      },
      "outputs": [],
      "source": [
        "# Define checkpoint functions (Simulates data exchange between clients and server)\n",
        "\n",
        "def saveCheckpoint(name, model_state_dict, optimizer_state_dict, filepath, verbose=False):\n",
        "    '''\n",
        "        Saves state dictionaries of model and optimizer as a .pt file\n",
        "    '''\n",
        "    torch.save({\n",
        "        'name': name,\n",
        "        'model_state_dict': model_state_dict,\n",
        "        'optimizer_state_dict': optimizer_state_dict,\n",
        "    }, filepath)\n",
        "\n",
        "    if verbose:\n",
        "        print(f'\\n\"{name}\" model saved as \"{filepath}\".\\n')\n",
        "\n",
        "    return True\n",
        "\n",
        "def loadCheckpoint(filepath, verbose=False):\n",
        "    '''\n",
        "        Loads and returns the state dictionaries of model and optimizer from a .pt file\n",
        "    '''\n",
        "    checkpoint = torch.load(filepath)\n",
        "    if verbose:\n",
        "        name = checkpoint['name']\n",
        "        # print(f'\\n\"{name}\" model loaded from \"{filepath}\".\\n')\n",
        "    return checkpoint\n",
        "\n",
        "def print_parameters(model):\n",
        "    '''\n",
        "        Outputs the learnable parameter counts for each layer and in total\n",
        "    '''\n",
        "    # print('Model Layer Parameters:\\n')\n",
        "    total_params = 0\n",
        "    for name, parameter in model.named_parameters():\n",
        "            if not parameter.requires_grad:\n",
        "                continue\n",
        "            params = parameter.numel()\n",
        "            # print(f'{name} - {params} parameters')\n",
        "            total_params += params\n",
        "    # print(f'\\n>>Total - {total_params} parameters\\n')"
      ]
    },
    {
      "cell_type": "markdown",
      "source": [
        "### Initialize Federated Model and hyper-parameters"
      ],
      "metadata": {
        "id": "WQnmC_Lvtngj"
      },
      "id": "WQnmC_Lvtngj"
    },
    {
      "cell_type": "code",
      "execution_count": 12,
      "id": "2e873561-7eb6-4c34-8f88-40bae860bc8a",
      "metadata": {
        "id": "2e873561-7eb6-4c34-8f88-40bae860bc8a"
      },
      "outputs": [],
      "source": [
        "# Define network model architecture\n",
        "FederatedModel = None\n",
        "\n",
        "if MODEL_SIZE == 'SMALL':\n",
        "    FederatedModel = SmallMLP\n",
        "elif MODEL_SIZE == 'MEDIUM':\n",
        "    FederatedModel = MediumMLP\n",
        "elif MODEL_SIZE == 'LARGE':\n",
        "    FederatedModel = LargeMLP\n",
        "\n",
        "# print_parameters(FederatedModel())\n",
        "\n",
        "# Define network training functions and hyper-parameters\n",
        "FederatedLossFunc = LOSS_FUNC\n",
        "FederatedOptimizer = OPTIMIZER\n",
        "FederatedLearnRate = INIT_LEARN_RATE\n",
        "FederatedMomentum = MOMENTUM\n",
        "FederatedWeightDecay = WEIGHT_DECAY"
      ]
    },
    {
      "cell_type": "markdown",
      "id": "d0a0ce58",
      "metadata": {
        "id": "d0a0ce58"
      },
      "source": [
        "## Server functions"
      ]
    },
    {
      "cell_type": "code",
      "execution_count": 13,
      "id": "5e69fdd6",
      "metadata": {
        "id": "5e69fdd6"
      },
      "outputs": [],
      "source": [
        "def initServer(model_path,folder_name,dataloader):\n",
        "    '''\n",
        "        Initializes server model and returns object with attributes\n",
        "    '''\n",
        "    print('Initializing server model...')\n",
        "    # Spawn server model and functions\n",
        "    server_name = 'server'\n",
        "    server_model = FederatedModel().to(device)\n",
        "    server_loss_func = FederatedLossFunc()\n",
        "    server_optimizer = FederatedOptimizer(server_model.parameters(), lr=FederatedLearnRate, momentum=FederatedMomentum, weight_decay=FederatedWeightDecay)\n",
        "    server_dataloader = dataloader\n",
        "\n",
        "    # print(server_model,'\\n')\n",
        "    # print(server_optimizer)\n",
        "\n",
        "    createDirectory(f'{model_path}/{folder_name}/server')\n",
        "    createDirectory(f'{model_path}/{folder_name}/client')\n",
        "\n",
        "    # Collect objects into a reference dictionary\n",
        "    server = {\n",
        "        'name': server_name,\n",
        "        'model': server_model,\n",
        "        'dataloader': server_dataloader,\n",
        "        'optimizer': server_optimizer,\n",
        "        'loss_func': server_loss_func,\n",
        "        'filepath': f'{model_path}/{folder_name}/server/server_model.pt',\n",
        "        'client_filepath': f'{model_path}/{folder_name}/client'\n",
        "    }\n",
        "\n",
        "    # Save server model state_dicts (simulating public access to server model parameters)\n",
        "    saveCheckpoint(\n",
        "        server_name,\n",
        "        server_model.state_dict(),\n",
        "        server_optimizer.state_dict(),\n",
        "        server['filepath'],\n",
        "        verbose=True\n",
        "    )\n",
        "\n",
        "    return server"
      ]
    },
    {
      "cell_type": "markdown",
      "id": "a03c568b",
      "metadata": {
        "id": "a03c568b"
      },
      "source": [
        "## Clients functions"
      ]
    },
    {
      "cell_type": "code",
      "execution_count": 14,
      "id": "84116d06",
      "metadata": {
        "id": "84116d06"
      },
      "outputs": [],
      "source": [
        "def initClients(num_norm,num_free,num_avsl,server,dataloaders):\n",
        "  '''\n",
        "      Initializes clients objects and returns a list of client object\n",
        "  '''\n",
        "\n",
        "  print('Initializing clients...')\n",
        "  # Setup client devices\n",
        "  behaviour_list = [\n",
        "      *['NORMAL' for i in range(num_norm)],\n",
        "      *['FREERIDER' for i in range(num_free)],\n",
        "      *['ADVERSARIAL' for i in range(num_avsl)],\n",
        "  ]\n",
        "\n",
        "  clients = []\n",
        "  for n, behaviour in enumerate(behaviour_list):\n",
        "      # Spawn client model and functions\n",
        "      client_name = f'client_{n}'\n",
        "\n",
        "      # Collect client's objects into a reference dictionary\n",
        "      clients += [{\n",
        "          'name': client_name,\n",
        "          'behaviour': behaviour,\n",
        "          'filepath': f'{server[\"client_filepath\"]}/{client_name}.pt',\n",
        "          'dataloader': dataloaders[n]\n",
        "      }]\n",
        "\n",
        "#   print('Client Name / Behaviour:', [(client['name'], client['behaviour']) for client in clients], '\\n')\n",
        "\n",
        "  return clients"
      ]
    },
    {
      "cell_type": "markdown",
      "id": "83d386ef",
      "metadata": {
        "id": "83d386ef"
      },
      "source": [
        "\n",
        "\n",
        "## Define train and test functions"
      ]
    },
    {
      "cell_type": "code",
      "execution_count": 15,
      "id": "4cec27bf",
      "metadata": {
        "id": "4cec27bf"
      },
      "outputs": [],
      "source": [
        "def train(dataloader, model, loss_fn, optimizer, verbose=False):\n",
        "    '''\n",
        "        Trains a NN model over a dataloader\n",
        "    '''\n",
        "    size = len(dataloader.dataset)\n",
        "    model.train()\n",
        "    for batch, (X, y) in enumerate(dataloader):\n",
        "        X, y = X.to(device), y.to(device)\n",
        "\n",
        "        # Compute prediction error\n",
        "        pred = model(X)\n",
        "        loss = loss_fn(pred, y)\n",
        "\n",
        "        # Backpropagation\n",
        "        optimizer.zero_grad()\n",
        "        loss.backward()\n",
        "        optimizer.step()\n",
        "\n",
        "        if batch % 100 == 0:\n",
        "            loss, current = loss.item(), batch * len(X)\n",
        "\n",
        "            if verbose:\n",
        "                print(f\"loss: {loss:>7f}  [{current:>5d}/{size:>5d}]\")\n",
        "\n",
        "            return loss"
      ]
    },
    {
      "cell_type": "code",
      "execution_count": 16,
      "id": "ae205d40",
      "metadata": {
        "id": "ae205d40"
      },
      "outputs": [],
      "source": [
        "def test(dataloader, model, loss_fn, verbose=False):\n",
        "    '''\n",
        "        Tests a NN model over a dataloader\n",
        "    '''\n",
        "    size = len(dataloader.dataset)\n",
        "    num_batches = len(dataloader)\n",
        "    model.eval()\n",
        "\n",
        "    test_loss, correct, f1 = 0, 0, 0\n",
        "    with torch.no_grad():\n",
        "        for X, y in dataloader:\n",
        "            X, y = X.to(device), y.to(device)\n",
        "            y_pred = model(X)\n",
        "            test_loss += loss_fn(y_pred, y).item()\n",
        "            correct += (y_pred.argmax(1) == y).type(torch.float).sum().item()\n",
        "            f1 += f1_score(y.cpu(), y_pred.argmax(1).cpu(), average='micro')\n",
        "\n",
        "    test_loss /= num_batches\n",
        "    correct /= size\n",
        "    f1 /= num_batches\n",
        "\n",
        "    if verbose:\n",
        "        print(f\"Test Error: \\n Accuracy: {correct:>8f}, Avg loss: {test_loss:>8f}, F1: {f1:>8f} \\n\")\n",
        "\n",
        "    return test_loss, correct, f1"
      ]
    },
    {
      "cell_type": "markdown",
      "id": "b9f13f57",
      "metadata": {
        "id": "b9f13f57"
      },
      "source": [
        "## Client training functions"
      ]
    },
    {
      "cell_type": "code",
      "execution_count": 17,
      "id": "3d26b2c8",
      "metadata": {
        "id": "3d26b2c8"
      },
      "outputs": [],
      "source": [
        "def trainClients(clients, server):\n",
        "    '''\n",
        "        Trains a list of client devices and saves their parameters\n",
        "    '''\n",
        "    loss, acc, f1 = {}, {}, {}\n",
        "    for client in clients:\n",
        "        train_loss, test_loss, test_acc, test_f1 = trainClient(client, server)\n",
        "\n",
        "        # Aggregate statistics\n",
        "        loss[client['name']] = test_loss\n",
        "        acc[client['name']] = test_acc\n",
        "        f1[client['name']] = test_f1\n",
        "\n",
        "    return loss, acc, f1\n",
        "\n",
        "def trainClient(client, server):\n",
        "    '''\n",
        "        Train a client device and save its parameters\n",
        "    '''\n",
        "    # Read client behaviour setting\n",
        "    client_behaviour = client['behaviour']\n",
        "\n",
        "    # Load local dataset\n",
        "    client_dataloader = client['dataloader']\n",
        "\n",
        "    # Get client model and functions\n",
        "    client_name = client['name']\n",
        "    client_model = FederatedModel().to(device)\n",
        "    client_loss_fn = FederatedLossFunc()\n",
        "    client_optimizer = FederatedOptimizer(client_model.parameters(), lr=FederatedLearnRate, momentum=FederatedMomentum, weight_decay=FederatedWeightDecay)\n",
        "\n",
        "    # If client is adversarial, they return randomized parameters\n",
        "    if client_behaviour == 'ADVERSARIAL':\n",
        "        # Save client model state_dicts (simulating client uploading model parameters to server)\n",
        "        saveCheckpoint(\n",
        "            client_name,\n",
        "            client_model.state_dict(),\n",
        "            client_optimizer.state_dict(),\n",
        "            client['filepath'],\n",
        "        )\n",
        "\n",
        "        test_loss, test_acc, test_f1 = test(server['dataloader'], client_model, client_loss_fn)\n",
        "        print(f\"{client_name} ({client_behaviour}) Test Acc: {test_acc:>8f}, Loss: {test_loss:>8f}, F1: {test_f1:>8f}\")\n",
        "\n",
        "        return 0, test_loss, test_acc, test_f1\n",
        "\n",
        "    # Load server model state_dicts (simulating client downloading server model parameters)\n",
        "    checkpoint = loadCheckpoint(server['filepath'])\n",
        "\n",
        "    client_model.load_state_dict(checkpoint['model_state_dict']) # Using current server model parameters\n",
        "\n",
        "    # If client is a freeloader, they return the same server model parameters\n",
        "    if client_behaviour == 'FREERIDER':\n",
        "        # Save client model state_dicts (simulating client uploading model parameters to server)\n",
        "        saveCheckpoint(\n",
        "            client_name,\n",
        "            client_model.state_dict(),\n",
        "            client_optimizer.state_dict(),\n",
        "            client['filepath'],\n",
        "        )\n",
        "\n",
        "        test_loss, test_acc, test_f1 = test(server['dataloader'], client_model, client_loss_fn)\n",
        "        print(f\"{client_name} ({client_behaviour}) Test Acc: {test_acc:>8f}, Loss: {test_loss:>8f}, F1: {test_f1:>8f}\")\n",
        "\n",
        "        return 0, test_loss, test_acc, test_f1\n",
        "\n",
        "    # If client is normal, they train client over N epochs\n",
        "    epochs = EPOCHS\n",
        "    print(f'Training {client_name} over {epochs} epochs...')\n",
        "    for t in range(epochs):\n",
        "        train_loss = train(client_dataloader, client_model, client_loss_fn, client_optimizer)\n",
        "\n",
        "    test_loss, test_acc, test_f1 = test(server['dataloader'], client_model, client_loss_fn)\n",
        "    print(f\"{client_name} ({client_behaviour}) Test Acc: {test_acc:>8f}, Loss: {test_loss:>8f}, F1: {test_f1:>8f}\")\n",
        "\n",
        "    # Save client model state_dicts (simulating client uploading model parameters to server)\n",
        "    saveCheckpoint(\n",
        "        client_name,\n",
        "        client_model.state_dict(),\n",
        "        client_optimizer.state_dict(),\n",
        "        client['filepath'],\n",
        "    )\n",
        "\n",
        "    return train_loss, test_loss, test_acc, test_f1"
      ]
    },
    {
      "cell_type": "markdown",
      "id": "f0b0206a",
      "metadata": {
        "id": "f0b0206a"
      },
      "source": [
        "## FedAvg core function"
      ]
    },
    {
      "cell_type": "code",
      "execution_count": 81,
      "id": "05108b07",
      "metadata": {
        "id": "05108b07"
      },
      "outputs": [],
      "source": [
        "def FedAvg(model_state_dicts):\n",
        "    '''\n",
        "    Calculates and generates the FedAvg of the state_dict of a list of models. Returns the FedAvg state_dict.\n",
        "\n",
        "    input: [ordered_dict{}]\n",
        "    output: state_dict_avg\n",
        "\n",
        "    '''\n",
        "    # Sum up tensors from all states\n",
        "    state_dict_sum = {} # Stores the sum of state parameters\n",
        "    for state_dict in model_state_dicts:\n",
        "        for key, params in state_dict.items():\n",
        "            if key in state_dict_sum:\n",
        "                state_dict_sum[key] += params.detach().clone()\n",
        "            else:\n",
        "                state_dict_sum[key] = params.detach().clone()\n",
        "\n",
        "    # Get Federated Average of clients' parameters\n",
        "    state_dict_avg = {}\n",
        "    for key in state_dict_sum:\n",
        "        state_dict_avg[key] = state_dict_sum[key] / len(model_state_dicts)\n",
        "\n",
        "    return state_dict_avg"
      ]
    },
    {
      "cell_type": "markdown",
      "id": "113063e1",
      "metadata": {
        "id": "113063e1"
      },
      "source": [
        "### FedAvg-Shapley server training functions"
      ]
    },
    {
      "cell_type": "code",
      "execution_count": 119,
      "id": "2c0c1ba4",
      "metadata": {
        "id": "2c0c1ba4"
      },
      "outputs": [],
      "source": [
        "def evalFedAvgShapley(server):\n",
        "    '''\n",
        "        >Evaluates and rewards clients based on marginal contributions in coalition permutations\n",
        "        >build server model by fedAvg\n",
        "    '''\n",
        "\n",
        "    # create server model\n",
        "    server_checkpoint = loadCheckpoint(server['filepath'])\n",
        "    server_model = FederatedModel().to(device)\n",
        "    server_model.load_state_dict(server_checkpoint['model_state_dict'])\n",
        "\n",
        "    # Evaluate server model\n",
        "    server_loss, server_acc, server_f1 = test(server['dataloader'], server_model, server['loss_func'])\n",
        "    print(f\"\\n>> Current Server Model Acc: {server_acc:>8f}, Loss: {server_loss:>8f}, F1: {server_f1:>8f}\\n\")\n",
        "\n",
        "    # Load client model state_dicts (simulating server sideloading client model parameters)\n",
        "    client_filepaths = glob.glob(f\"{server['client_filepath']}/client*.pt\")\n",
        "\n",
        "    client_checkpoints = {}\n",
        "    for client_filepath in client_filepaths:\n",
        "        client_checkpoint = loadCheckpoint(client_filepath)\n",
        "        client_checkpoints[client_checkpoint['name']] = client_checkpoint\n",
        "    client_names = [client_id for client_id in client_checkpoints]\n",
        "\n",
        "\n",
        "    max_length = len(client_names)# for later check\n",
        "\n",
        "    # We generate non-null powerset of selected clients\n",
        "    coalitions = list([frozenset(subset) for subset in powerset(client_names)])\n",
        "\n",
        "    # We generate order permutations of selected clients\n",
        "    orders = list(permutations(client_names))\n",
        "\n",
        "    # We calculate the contributions of each coalition\n",
        "    print('FedAvg Coalition Evaluations:')\n",
        "\n",
        "    best_loss, best_acc, best_f1, best_utility = server_loss, server_acc, server_f1, 0.0\n",
        "    utilities = {}\n",
        "\n",
        "    fed_model = FederatedModel().to(device)\n",
        "\n",
        "    for coalition in coalitions:\n",
        "        coalition_names = [client_id for client_id in coalition]\n",
        "\n",
        "        # Get Federated Average of clients' parameters\n",
        "        model_state_dicts = [client_checkpoints[client_id]['model_state_dict'] for client_id in coalition_names]\n",
        "        fed_model_state_dict = FedAvg(model_state_dicts)\n",
        "\n",
        "        # Instantiate server model using FedAvg\n",
        "        fed_model.load_state_dict(fed_model_state_dict)\n",
        "\n",
        "        fed_model.eval()\n",
        "        # Evaluate FedAvg server model\n",
        "        eval_loss, eval_acc, eval_f1 = test(server['dataloader'], fed_model, FederatedLossFunc())\n",
        "\n",
        "        # print(f\">> {'-'.join(coalition_names)} Acc: {eval_acc:>8f}, Loss: {eval_loss:>8f}, F1: {eval_f1:>8f}\")\n",
        "        utility_sum = 0\n",
        "        utilities[coalition] = {\n",
        "            'acc': eval_acc,\n",
        "        }\n",
        "\n",
        "        if len(coalition)  == max_length:\n",
        "            _, eval_acc, _ = test(server['dataloader'], fed_model, FederatedLossFunc())\n",
        "            print(f\" fed model for all clients in the round: {'-'.join(coalition_names)} ===> {eval_acc}\")\n",
        "            saveCheckpoint(\n",
        "                server['name'],\n",
        "                fed_model_state_dict,\n",
        "                server['optimizer'],\n",
        "                server['filepath'],\n",
        "            )\n",
        "\n",
        "    # print(\"this is your utility:\", utilities)\n",
        "    contributions = {}\n",
        "    for order in orders:\n",
        "        index = 1\n",
        "        prev_suborder = []\n",
        "\n",
        "        # Calculate contribution of each client in this order\n",
        "        for client_id in order:\n",
        "            cur_suborder = order[:index] # eg. ['A'] -> ['A','B'] -> ['A','B','C']\n",
        "            # If index > 1, we deduct this suborder's utility from prev suborder (eg. u(AB) - u(A) = c(B))\n",
        "            if index > 1:\n",
        "                cur_utilities = utilities[frozenset(cur_suborder)]\n",
        "                prev_utilities = utilities[frozenset(prev_suborder)]\n",
        "\n",
        "                ans = {}\n",
        "                for utility_metric in cur_utilities:\n",
        "                    ans[utility_metric] = cur_utilities[utility_metric] - prev_utilities[utility_metric]\n",
        "\n",
        "            # If index == 1, this is a single element's contribution (eg. u(A) = c(A))\n",
        "            else:\n",
        "                ans = utilities[frozenset([client_id])]\n",
        "                # {'acc': 0.1028}\n",
        "\n",
        "            # Add value to client's list of contributions\n",
        "            if not client_id in contributions:\n",
        "                    contributions[client_id] = {}\n",
        "\n",
        "            for utility_metric in ans:\n",
        "                if utility_metric in contributions[client_id]:\n",
        "                    contributions[client_id][utility_metric] += [ans[utility_metric]]\n",
        "                else:\n",
        "                    contributions[client_id][utility_metric] = [ans[utility_metric]]\n",
        "\n",
        "            index += 1\n",
        "            prev_suborder += [client_id]\n",
        "\n",
        "    # We calculate the Shapley Value of each client by averaging the sum of their contributions\n",
        "    print(f'\\nClient Shapley Values:')\n",
        "    for client_id in contributions:\n",
        "        txt = f'>> {client_id}:'\n",
        "        for metric in contributions[client_id]:\n",
        "            metric_values = contributions[client_id][metric]\n",
        "            contributions[client_id][metric] = sum(metric_values) / len(metric_values)\n",
        "            txt += f' {metric}: {contributions[client_id][metric]:>8f},'\n",
        "        print(txt)\n",
        "\n",
        "    # Output statistics\n",
        "    return  {name:vals['acc'] for name, vals in contributions.items()}"
      ]
    },
    {
      "cell_type": "code",
      "source": [
        "def custom_FedAvg(model_state_dicts, sv):\n",
        "    '''\n",
        "        Calculates and generates the FedAvg of the state_dict of a list of models. Returns the FedAvg state_dict.\n",
        "        input: tuple(model_state_dict, client_id)\n",
        "        sv: dict{client}\n",
        "\n",
        "        output: acc of our customized fed\n",
        "    '''\n",
        "\n",
        "    # Sum up tensors from all states\n",
        "    state_dict_sum = {} # Stores the sum of state parameters\n",
        "    for state_dict, client_id in model_state_dicts:\n",
        "        for key, params in state_dict.items():\n",
        "            # print(\"sv[key]\",sv[key])\n",
        "            if key in state_dict_sum:\n",
        "                state_dict_sum[key] += sv[client_id] * params.detach().clone()\n",
        "            else:\n",
        "                state_dict_sum[key] = sv[client_id] * params.detach().clone()\n",
        "\n",
        "    # Get Federated Average of clients' parameters\n",
        "    state_dict_avg = {}\n",
        "    for key in state_dict_sum:\n",
        "        state_dict_avg[key] = state_dict_sum[key] / len(model_state_dicts)\n",
        "\n",
        "    return state_dict_avg\n",
        "\n",
        "\n",
        "##-----------------------------------------\n",
        "\n",
        "def weighted_server(clients_sv):\n",
        "\n",
        "    \"\"\"\n",
        "    we element-wise multiply each weight by its corresponding \"softmaxed\" shapley value\n",
        "    input: clients_sv: {'client_id': #.#}\n",
        "\n",
        "\n",
        "    ---\n",
        "    strategy: so we knoe that the weights are trained and save in our filesystem\n",
        "    so here we should rights\n",
        "\n",
        "    \"\"\"\n",
        "\n",
        "    client_filepaths = glob.glob(f\"{server['client_filepath']}/client*.pt\")\n",
        "    client_checkpoints = {}\n",
        "    for client_filepath in client_filepaths:\n",
        "        client_checkpoint = loadCheckpoint(client_filepath)\n",
        "        client_checkpoints[client_checkpoint['name']] = client_checkpoint\n",
        "\n",
        "    client_names = [client_id for client_id in client_checkpoints]\n",
        "\n",
        "    #softmax of sv\n",
        "    round_sv = {key:torch.tensor(clients_sv[str(key)]) for key in clients_sv }\n",
        "    softmax_sv = {}\n",
        "    for key in round_sv:\n",
        "        softmax_sv[key] = torch.exp(round_sv[key])/sum([torch.exp(v) for _,v in round_sv.items()])\n",
        "\n",
        "\n",
        "    model_state_dicts = []\n",
        "    model_state_dicts = [(client_checkpoints[client_id]['model_state_dict'], client_id )for client_id in client_names]\n",
        "\n",
        "\n",
        "    fed_model = FederatedModel().to(device)\n",
        "    fed_model_state_dict = custom_FedAvg(model_state_dicts, softmax_sv) # fed_model_state_dict = FedAvg(model_state_dicts)\n",
        "    fed_model.load_state_dict(fed_model_state_dict)\n",
        "    fed_model.eval()\n",
        "    _, eval_acc, _ = test(server['dataloader'], fed_model, FederatedLossFunc())\n",
        "\n",
        "    return eval_acc\n",
        ""
      ],
      "metadata": {
        "id": "2NaOqLxIYE-C"
      },
      "id": "2NaOqLxIYE-C",
      "execution_count": 120,
      "outputs": []
    },
    {
      "cell_type": "code",
      "execution_count": 121,
      "id": "00b8af9c",
      "metadata": {
        "id": "00b8af9c"
      },
      "outputs": [],
      "source": [
        "def trainFedAvgShapleyModel(rounds, shapley_filter=True, coalition_limit=0):\n",
        "    '''\n",
        "        Train a model using FedAvg using Shapley Value\n",
        "    '''\n",
        "\n",
        "    loss, acc, f1, eval_time, best_coalitions, sv = [], [], [], [], [], []\n",
        "    for r in range(1, rounds+1):\n",
        "        print(f'\\n=======================\\n\\tROUND {r}\\n=======================')\n",
        "        clients_loss, clients_acc, clients_f1 = trainClients(clients, server)\n",
        "        clients_sv = evalFedAvgShapley(server)\n",
        "        #train clients base on their contribution\n",
        "        print(\"\\n clients_sv:\", clients_sv, \"\\n\" )\n",
        "        acc_of_ours = weighted_server(clients_sv)\n",
        "        sv += [clients_sv]# Shapley Values of every client\n",
        "        print(\"acc_of_ours: \", acc_of_ours)\n",
        "\n",
        "    # Output statistics\n",
        "    return aggListOfDicts(loss), aggListOfDicts(acc), aggListOfDicts(f1), aggListOfDicts(sv)\n",
        "\n"
      ]
    },
    {
      "cell_type": "code",
      "source": [
        "# Initalize server and clients\n",
        "server = initServer(model_path,'ShapleyValue',test_dataloader)\n",
        "clients = initClients(NUM_NORMAL_CLIENTS,NUM_FREERIDER_CLIENTS,NUM_ADVERSARIAL_CLIENTS,server,train_dataloaders)\n",
        "\n",
        "# Train and evaluate\n",
        "COMM_ROUNDS=30\n",
        "sv_loss, sv_acc, sv_f1, sv  = trainFedAvgShapleyModel(COMM_ROUNDS, shapley_filter=SHAPLEY_FILTER, coalition_limit=COALITION_LIMIT)"
      ],
      "metadata": {
        "id": "SwzYu7AIHNQ5",
        "colab": {
          "base_uri": "https://localhost:8080/"
        },
        "outputId": "9e201b35-f800-4d80-c6cd-ecb21cff0ff6"
      },
      "id": "SwzYu7AIHNQ5",
      "execution_count": null,
      "outputs": [
        {
          "output_type": "stream",
          "name": "stdout",
          "text": [
            "Initializing server model...\n",
            "\n",
            "\"server\" model saved as \"./models/ShapleyValue/server/server_model.pt\".\n",
            "\n",
            "Initializing clients...\n",
            "\n",
            "=======================\n",
            "\tROUND 1\n",
            "=======================\n",
            "Training client_0 over 10 epochs...\n",
            "client_0 (NORMAL) Test Acc: 0.097400, Loss: 2.296887, F1: 0.097013\n",
            "Training client_1 over 10 epochs...\n",
            "client_1 (NORMAL) Test Acc: 0.132900, Loss: 2.368631, F1: 0.132812\n",
            "Training client_2 over 10 epochs...\n",
            "client_2 (NORMAL) Test Acc: 0.112200, Loss: 2.306653, F1: 0.112342\n",
            "Training client_3 over 10 epochs...\n",
            "client_3 (NORMAL) Test Acc: 0.102800, Loss: 2.325086, F1: 0.102354\n",
            "client_4 (ADVERSARIAL) Test Acc: 0.112600, Loss: 2.302763, F1: 0.112045\n",
            "\n",
            ">> Current Server Model Acc: 0.096200, Loss: 2.303353, F1: 0.096519\n",
            "\n",
            "FedAvg Coalition Evaluations:\n",
            " fed model for all clients in the round: client_2-client_3-client_0-client_4-client_1 ===> 0.4166\n",
            "\n",
            "Client Shapley Values:\n",
            ">> client_2: acc: 0.067325,\n",
            ">> client_1: acc: 0.088308,\n",
            ">> client_4: acc: -0.001142,\n",
            ">> client_0: acc: 0.136175,\n",
            ">> client_3: acc: 0.125933,\n",
            "\n",
            " clients_sv: {'client_2': 0.06732500000000001, 'client_1': 0.0883083333333332, 'client_4': -0.0011416666666666485, 'client_0': 0.13617500000000016, 'client_3': 0.12593333333333334} \n",
            "\n",
            "acc_of_ours:  0.1135\n",
            "\n",
            "=======================\n",
            "\tROUND 2\n",
            "=======================\n",
            "Training client_0 over 10 epochs...\n",
            "client_0 (NORMAL) Test Acc: 0.101300, Loss: 2.273597, F1: 0.101562\n",
            "Training client_1 over 10 epochs...\n",
            "client_1 (NORMAL) Test Acc: 0.163300, Loss: 2.382748, F1: 0.163568\n",
            "Training client_2 over 10 epochs...\n",
            "client_2 (NORMAL) Test Acc: 0.189500, Loss: 2.278345, F1: 0.189478\n",
            "Training client_3 over 10 epochs...\n",
            "client_3 (NORMAL) Test Acc: 0.157200, Loss: 2.319422, F1: 0.156151\n",
            "client_4 (ADVERSARIAL) Test Acc: 0.093300, Loss: 2.303243, F1: 0.093651\n",
            "\n",
            ">> Current Server Model Acc: 0.416600, Loss: 2.279566, F1: 0.417524\n",
            "\n",
            "FedAvg Coalition Evaluations:\n",
            " fed model for all clients in the round: client_2-client_3-client_0-client_4-client_1 ===> 0.5008\n",
            "\n",
            "Client Shapley Values:\n",
            ">> client_2: acc: 0.083535,\n",
            ">> client_1: acc: 0.123818,\n",
            ">> client_4: acc: 0.012393,\n",
            ">> client_0: acc: 0.136585,\n",
            ">> client_3: acc: 0.144468,\n",
            "\n",
            " clients_sv: {'client_2': 0.083535, 'client_1': 0.12381833333333336, 'client_4': 0.012393333333333357, 'client_0': 0.13658499999999993, 'client_3': 0.14446833333333328} \n",
            "\n",
            "acc_of_ours:  0.1135\n",
            "\n",
            "=======================\n",
            "\tROUND 3\n",
            "=======================\n",
            "Training client_0 over 10 epochs...\n",
            "client_0 (NORMAL) Test Acc: 0.097500, Loss: 2.254916, F1: 0.097112\n",
            "Training client_1 over 10 epochs...\n",
            "client_1 (NORMAL) Test Acc: 0.244400, Loss: 2.154398, F1: 0.244462\n",
            "Training client_2 over 10 epochs...\n",
            "client_2 (NORMAL) Test Acc: 0.281000, Loss: 2.245053, F1: 0.280657\n",
            "Training client_3 over 10 epochs...\n",
            "client_3 (NORMAL) Test Acc: 0.225300, Loss: 2.281301, F1: 0.224189\n",
            "client_4 (ADVERSARIAL) Test Acc: 0.115900, Loss: 2.301480, F1: 0.116693\n",
            "\n",
            ">> Current Server Model Acc: 0.500800, Loss: 2.259003, F1: 0.501483\n",
            "\n",
            "FedAvg Coalition Evaluations:\n",
            " fed model for all clients in the round: client_2-client_3-client_0-client_4-client_1 ===> 0.5224\n",
            "\n",
            "Client Shapley Values:\n",
            ">> client_2: acc: 0.112107,\n",
            ">> client_1: acc: 0.168040,\n",
            ">> client_4: acc: 0.000057,\n",
            ">> client_0: acc: 0.083223,\n",
            ">> client_3: acc: 0.158973,\n",
            "\n",
            " clients_sv: {'client_2': 0.11210666666666678, 'client_1': 0.1680399999999999, 'client_4': 5.66666666666669e-05, 'client_0': 0.08322333333333334, 'client_3': 0.15897333333333347} \n",
            "\n",
            "acc_of_ours:  0.1135\n",
            "\n",
            "=======================\n",
            "\tROUND 4\n",
            "=======================\n",
            "Training client_0 over 10 epochs...\n",
            "client_0 (NORMAL) Test Acc: 0.190800, Loss: 2.039872, F1: 0.190763\n",
            "Training client_1 over 10 epochs...\n",
            "client_1 (NORMAL) Test Acc: 0.389600, Loss: 1.898979, F1: 0.389438\n",
            "Training client_2 over 10 epochs...\n",
            "client_2 (NORMAL) Test Acc: 0.293700, Loss: 2.070761, F1: 0.293216\n",
            "Training client_3 over 10 epochs...\n",
            "client_3 (NORMAL) Test Acc: 0.410500, Loss: 2.087747, F1: 0.410107\n",
            "client_4 (ADVERSARIAL) Test Acc: 0.097700, Loss: 2.301717, F1: 0.097310\n",
            "\n",
            ">> Current Server Model Acc: 0.522400, Loss: 2.210685, F1: 0.522844\n",
            "\n",
            "FedAvg Coalition Evaluations:\n",
            " fed model for all clients in the round: client_2-client_3-client_0-client_4-client_1 ===> 0.5308\n",
            "\n",
            "Client Shapley Values:\n",
            ">> client_2: acc: 0.120417,\n",
            ">> client_1: acc: 0.211483,\n",
            ">> client_4: acc: -0.032533,\n",
            ">> client_0: acc: 0.102092,\n",
            ">> client_3: acc: 0.129342,\n",
            "\n",
            " clients_sv: {'client_2': 0.12041666666666656, 'client_1': 0.21148333333333352, 'client_4': -0.0325333333333333, 'client_0': 0.10209166666666665, 'client_3': 0.12934166666666677} \n",
            "\n",
            "acc_of_ours:  0.1135\n",
            "\n",
            "=======================\n",
            "\tROUND 5\n",
            "=======================\n",
            "Training client_0 over 10 epochs...\n",
            "client_0 (NORMAL) Test Acc: 0.510100, Loss: 1.531898, F1: 0.509296\n",
            "Training client_1 over 10 epochs...\n",
            "client_1 (NORMAL) Test Acc: 0.437200, Loss: 1.763127, F1: 0.437203\n",
            "Training client_2 over 10 epochs...\n",
            "client_2 (NORMAL) Test Acc: 0.466900, Loss: 1.649805, F1: 0.464498\n",
            "Training client_3 over 10 epochs...\n",
            "client_3 (NORMAL) Test Acc: 0.426500, Loss: 1.988945, F1: 0.427314\n",
            "client_4 (ADVERSARIAL) Test Acc: 0.098300, Loss: 2.301892, F1: 0.098596\n",
            "\n",
            ">> Current Server Model Acc: 0.530800, Loss: 2.076674, F1: 0.530459\n",
            "\n",
            "FedAvg Coalition Evaluations:\n",
            " fed model for all clients in the round: client_2-client_3-client_0-client_4-client_1 ===> 0.4818\n",
            "\n",
            "Client Shapley Values:\n",
            ">> client_2: acc: 0.137080,\n",
            ">> client_1: acc: 0.122530,\n",
            ">> client_4: acc: -0.025862,\n",
            ">> client_0: acc: 0.138355,\n",
            ">> client_3: acc: 0.109697,\n",
            "\n",
            " clients_sv: {'client_2': 0.13707999999999984, 'client_1': 0.12253000000000004, 'client_4': -0.025861666666666647, 'client_0': 0.13835499999999987, 'client_3': 0.10969666666666673} \n",
            "\n",
            "acc_of_ours:  0.1135\n",
            "\n",
            "=======================\n",
            "\tROUND 6\n",
            "=======================\n",
            "Training client_0 over 10 epochs...\n",
            "client_0 (NORMAL) Test Acc: 0.497900, Loss: 1.335779, F1: 0.495847\n",
            "Training client_1 over 10 epochs...\n",
            "client_1 (NORMAL) Test Acc: 0.552800, Loss: 1.315560, F1: 0.551523\n",
            "Training client_2 over 10 epochs...\n",
            "client_2 (NORMAL) Test Acc: 0.484600, Loss: 1.374852, F1: 0.482694\n",
            "Training client_3 over 10 epochs...\n",
            "client_3 (NORMAL) Test Acc: 0.504000, Loss: 1.836019, F1: 0.503956\n",
            "client_4 (ADVERSARIAL) Test Acc: 0.088600, Loss: 2.301846, F1: 0.089003\n",
            "\n",
            ">> Current Server Model Acc: 0.481800, Loss: 1.781450, F1: 0.481309\n",
            "\n",
            "FedAvg Coalition Evaluations:\n",
            " fed model for all clients in the round: client_2-client_3-client_0-client_4-client_1 ===> 0.5255\n",
            "\n",
            "Client Shapley Values:\n",
            ">> client_2: acc: 0.126998,\n",
            ">> client_1: acc: 0.165982,\n",
            ">> client_4: acc: -0.025377,\n",
            ">> client_0: acc: 0.133640,\n",
            ">> client_3: acc: 0.124257,\n",
            "\n",
            " clients_sv: {'client_2': 0.1269983333333334, 'client_1': 0.16598166666666658, 'client_4': -0.02537666666666664, 'client_0': 0.1336399999999999, 'client_3': 0.1242566666666666} \n",
            "\n",
            "acc_of_ours:  0.1135\n",
            "\n",
            "=======================\n",
            "\tROUND 7\n",
            "=======================\n",
            "Training client_0 over 10 epochs...\n",
            "client_0 (NORMAL) Test Acc: 0.513900, Loss: 1.419614, F1: 0.512362\n",
            "Training client_1 over 10 epochs...\n",
            "client_1 (NORMAL) Test Acc: 0.578100, Loss: 1.203374, F1: 0.577235\n",
            "Training client_2 over 10 epochs...\n",
            "client_2 (NORMAL) Test Acc: 0.516300, Loss: 1.519969, F1: 0.514735\n",
            "Training client_3 over 10 epochs...\n",
            "client_3 (NORMAL) Test Acc: 0.488700, Loss: 1.864310, F1: 0.487441\n",
            "client_4 (ADVERSARIAL) Test Acc: 0.117100, Loss: 2.303240, F1: 0.117188\n",
            "\n",
            ">> Current Server Model Acc: 0.525500, Loss: 1.451753, F1: 0.525218\n",
            "\n",
            "FedAvg Coalition Evaluations:\n",
            " fed model for all clients in the round: client_2-client_3-client_0-client_4-client_1 ===> 0.5941\n",
            "\n",
            "Client Shapley Values:\n",
            ">> client_2: acc: 0.143358,\n",
            ">> client_1: acc: 0.196625,\n",
            ">> client_4: acc: -0.023033,\n",
            ">> client_0: acc: 0.151042,\n",
            ">> client_3: acc: 0.126108,\n",
            "\n",
            " clients_sv: {'client_2': 0.14335833333333323, 'client_1': 0.1966250000000002, 'client_4': -0.023033333333333315, 'client_0': 0.15104166666666652, 'client_3': 0.12610833333333327} \n",
            "\n",
            "acc_of_ours:  0.1135\n",
            "\n",
            "=======================\n",
            "\tROUND 8\n",
            "=======================\n",
            "Training client_0 over 10 epochs...\n",
            "client_0 (NORMAL) Test Acc: 0.592100, Loss: 1.414066, F1: 0.589695\n",
            "Training client_1 over 10 epochs...\n",
            "client_1 (NORMAL) Test Acc: 0.624500, Loss: 1.173428, F1: 0.623813\n",
            "Training client_2 over 10 epochs...\n",
            "client_2 (NORMAL) Test Acc: 0.553500, Loss: 1.453631, F1: 0.552215\n",
            "Training client_3 over 10 epochs...\n",
            "client_3 (NORMAL) Test Acc: 0.543700, Loss: 1.778963, F1: 0.543908\n",
            "client_4 (ADVERSARIAL) Test Acc: 0.116000, Loss: 2.302075, F1: 0.116792\n",
            "\n",
            ">> Current Server Model Acc: 0.594100, Loss: 1.304369, F1: 0.593058\n",
            "\n",
            "FedAvg Coalition Evaluations:\n",
            " fed model for all clients in the round: client_2-client_3-client_0-client_4-client_1 ===> 0.6495\n",
            "\n",
            "Client Shapley Values:\n",
            ">> client_2: acc: 0.161007,\n",
            ">> client_1: acc: 0.196648,\n",
            ">> client_4: acc: -0.001843,\n",
            ">> client_0: acc: 0.165332,\n",
            ">> client_3: acc: 0.128357,\n",
            "\n",
            " clients_sv: {'client_2': 0.1610066666666668, 'client_1': 0.1966483333333334, 'client_4': -0.0018433333333333283, 'client_0': 0.1653316666666668, 'client_3': 0.1283566666666666} \n",
            "\n",
            "acc_of_ours:  0.1693\n",
            "\n",
            "=======================\n",
            "\tROUND 9\n",
            "=======================\n",
            "Training client_0 over 10 epochs...\n",
            "client_0 (NORMAL) Test Acc: 0.613500, Loss: 1.469016, F1: 0.610858\n",
            "Training client_1 over 10 epochs...\n",
            "client_1 (NORMAL) Test Acc: 0.639700, Loss: 1.207769, F1: 0.638845\n",
            "Training client_2 over 10 epochs...\n",
            "client_2 (NORMAL) Test Acc: 0.621300, Loss: 1.295773, F1: 0.619956\n",
            "Training client_3 over 10 epochs...\n",
            "client_3 (NORMAL) Test Acc: 0.574400, Loss: 1.767307, F1: 0.574268\n",
            "client_4 (ADVERSARIAL) Test Acc: 0.100900, Loss: 2.302310, F1: 0.100475\n",
            "\n",
            ">> Current Server Model Acc: 0.649500, Loss: 1.180650, F1: 0.647844\n",
            "\n",
            "FedAvg Coalition Evaluations:\n",
            " fed model for all clients in the round: client_2-client_3-client_0-client_4-client_1 ===> 0.6817\n",
            "\n",
            "Client Shapley Values:\n",
            ">> client_2: acc: 0.191008,\n",
            ">> client_1: acc: 0.190792,\n",
            ">> client_4: acc: -0.022450,\n",
            ">> client_0: acc: 0.168033,\n",
            ">> client_3: acc: 0.154317,\n",
            "\n",
            " clients_sv: {'client_2': 0.19100833333333359, 'client_1': 0.19079166666666655, 'client_4': -0.022450000000000005, 'client_0': 0.1680333333333334, 'client_3': 0.1543166666666667} \n",
            "\n",
            "acc_of_ours:  0.2486\n",
            "\n",
            "=======================\n",
            "\tROUND 10\n",
            "=======================\n",
            "Training client_0 over 10 epochs...\n",
            "client_0 (NORMAL) Test Acc: 0.626300, Loss: 1.447579, F1: 0.623517\n",
            "Training client_1 over 10 epochs...\n",
            "client_1 (NORMAL) Test Acc: 0.646700, Loss: 1.256928, F1: 0.645767\n",
            "Training client_2 over 10 epochs...\n",
            "client_2 (NORMAL) Test Acc: 0.649700, Loss: 1.221852, F1: 0.648734\n",
            "Training client_3 over 10 epochs...\n",
            "client_3 (NORMAL) Test Acc: 0.586300, Loss: 1.754145, F1: 0.586036\n",
            "client_4 (ADVERSARIAL) Test Acc: 0.087900, Loss: 2.303771, F1: 0.088311\n",
            "\n",
            ">> Current Server Model Acc: 0.681700, Loss: 1.108930, F1: 0.679688\n",
            "\n",
            "FedAvg Coalition Evaluations:\n",
            " fed model for all clients in the round: client_2-client_3-client_0-client_4-client_1 ===> 0.687\n",
            "\n",
            "Client Shapley Values:\n",
            ">> client_2: acc: 0.204650,\n",
            ">> client_1: acc: 0.188683,\n",
            ">> client_4: acc: -0.040567,\n",
            ">> client_0: acc: 0.174692,\n",
            ">> client_3: acc: 0.159542,\n",
            "\n",
            " clients_sv: {'client_2': 0.20465000000000008, 'client_1': 0.18868333333333343, 'client_4': -0.040566666666666716, 'client_0': 0.17469166666666666, 'client_3': 0.15954166666666666} \n",
            "\n",
            "acc_of_ours:  0.0981\n",
            "\n",
            "=======================\n",
            "\tROUND 11\n",
            "=======================\n",
            "Training client_0 over 10 epochs...\n",
            "client_0 (NORMAL) Test Acc: 0.630300, Loss: 1.444156, F1: 0.627472\n",
            "Training client_1 over 10 epochs...\n",
            "client_1 (NORMAL) Test Acc: 0.638700, Loss: 1.324124, F1: 0.637856\n",
            "Training client_2 over 10 epochs...\n",
            "client_2 (NORMAL) Test Acc: 0.658900, Loss: 1.212545, F1: 0.658525\n",
            "Training client_3 over 10 epochs...\n",
            "client_3 (NORMAL) Test Acc: 0.590200, Loss: 1.750451, F1: 0.590585\n",
            "client_4 (ADVERSARIAL) Test Acc: 0.105800, Loss: 2.303345, F1: 0.106013\n",
            "\n",
            ">> Current Server Model Acc: 0.687000, Loss: 1.077749, F1: 0.685621\n",
            "\n",
            "FedAvg Coalition Evaluations:\n",
            " fed model for all clients in the round: client_2-client_3-client_0-client_4-client_1 ===> 0.6922\n",
            "\n",
            "Client Shapley Values:\n",
            ">> client_2: acc: 0.200232,\n",
            ">> client_1: acc: 0.180865,\n",
            ">> client_4: acc: -0.023560,\n",
            ">> client_0: acc: 0.171932,\n",
            ">> client_3: acc: 0.162732,\n",
            "\n",
            " clients_sv: {'client_2': 0.20023166666666672, 'client_1': 0.18086500000000008, 'client_4': -0.02356, 'client_0': 0.17193166666666665, 'client_3': 0.16273166666666658} \n",
            "\n"
          ]
        }
      ]
    },
    {
      "cell_type": "code",
      "source": [],
      "metadata": {
        "id": "6aZ8lSkGjUwR"
      },
      "id": "6aZ8lSkGjUwR",
      "execution_count": null,
      "outputs": []
    },
    {
      "cell_type": "code",
      "source": [],
      "metadata": {
        "id": "aN43QM6ejUt0"
      },
      "id": "aN43QM6ejUt0",
      "execution_count": null,
      "outputs": []
    },
    {
      "cell_type": "code",
      "source": [],
      "metadata": {
        "id": "emYg9QCtjUo4"
      },
      "id": "emYg9QCtjUo4",
      "execution_count": null,
      "outputs": []
    },
    {
      "cell_type": "code",
      "source": [],
      "metadata": {
        "id": "uhXxr-ckjUmP"
      },
      "id": "uhXxr-ckjUmP",
      "execution_count": null,
      "outputs": []
    },
    {
      "cell_type": "code",
      "source": [],
      "metadata": {
        "id": "T0uopTJRjUj4"
      },
      "id": "T0uopTJRjUj4",
      "execution_count": null,
      "outputs": []
    },
    {
      "cell_type": "code",
      "source": [
        "client_filepaths = glob.glob(f\"{server['client_filepath']}/client*.pt\")"
      ],
      "metadata": {
        "id": "VUl5IxzSOEpB"
      },
      "id": "VUl5IxzSOEpB",
      "execution_count": 37,
      "outputs": []
    },
    {
      "cell_type": "code",
      "source": [
        "client_filepaths = glob.glob(f\"{server['client_filepath']}/client*.pt\")\n",
        "client_checkpoint = loadCheckpoint(client_filepaths[0])\n",
        "model_state_dict = client_checkpoint['model_state_dict']\n",
        "\n",
        "n = torch.tensor([2.33323])\n",
        "add_all = {}\n",
        "for key, param in model_state_dict.items():\n",
        "    if key in add_all:\n",
        "        add_all[key] += param.detach().clone() * n\n",
        "    else:\n",
        "        add_all[key] = param.detach().clone()  *n\n",
        "\n"
      ],
      "metadata": {
        "id": "f005l_dMOEmH",
        "colab": {
          "base_uri": "https://localhost:8080/"
        },
        "outputId": "f62560e1-0fcc-4829-e3a4-6abb9333a420"
      },
      "id": "f005l_dMOEmH",
      "execution_count": 70,
      "outputs": [
        {
          "output_type": "execute_result",
          "data": {
            "text/plain": [
              "tensor([[ 0.0346, -0.0492,  0.0586,  ..., -0.0233,  0.0339,  0.0226],\n",
              "        [-0.0112, -0.0339, -0.0375,  ...,  0.0209,  0.0050, -0.0339],\n",
              "        [-0.0691, -0.0549, -0.0206,  ...,  0.0322, -0.0215, -0.0453],\n",
              "        ...,\n",
              "        [-0.0320, -0.0570,  0.0264,  ...,  0.0034, -0.0662, -0.0146],\n",
              "        [ 0.0180,  0.0325, -0.0657,  ...,  0.0806, -0.0761,  0.0762],\n",
              "        [-0.0751,  0.0332, -0.0282,  ...,  0.0676,  0.0502,  0.0105]])"
            ]
          },
          "metadata": {},
          "execution_count": 70
        }
      ]
    },
    {
      "cell_type": "code",
      "source": [
        "add_all['linear_relu_stack.0.weight'][0]/ model_state_dict['linear_relu_stack.0.weight'][0]\n",
        "# model_state_dict['linear_relu_stack.4.weight'].shape\n",
        "\n",
        "#what is your question why you cant move the needle forward.\n",
        "# ans: i simply want to multiply a number into this vectors,\n",
        "# you mean params? yes\n",
        "# you should put the correct number in your"
      ],
      "metadata": {
        "id": "wdCAUTnWifwB"
      },
      "id": "wdCAUTnWifwB",
      "execution_count": null,
      "outputs": []
    },
    {
      "cell_type": "code",
      "source": [],
      "metadata": {
        "id": "y9QK4ykyu9CA"
      },
      "id": "y9QK4ykyu9CA",
      "execution_count": null,
      "outputs": []
    }
  ],
  "metadata": {
    "kernelspec": {
      "display_name": "Python 3",
      "name": "python3"
    },
    "language_info": {
      "codemirror_mode": {
        "name": "ipython",
        "version": 3
      },
      "file_extension": ".py",
      "mimetype": "text/x-python",
      "name": "python",
      "nbconvert_exporter": "python",
      "pygments_lexer": "ipython3",
      "version": "3.9.7"
    },
    "colab": {
      "provenance": [],
      "collapsed_sections": [
        "LhOjwFjgtIJF",
        "EMhYlYkZtMHc",
        "elz2GPwms4wW",
        "9e1d7f0e",
        "WQnmC_Lvtngj",
        "d0a0ce58",
        "a03c568b",
        "83d386ef",
        "b9f13f57"
      ],
      "include_colab_link": true
    }
  },
  "nbformat": 4,
  "nbformat_minor": 5
}