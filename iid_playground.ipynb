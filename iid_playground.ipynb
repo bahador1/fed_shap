{
  "nbformat": 4,
  "nbformat_minor": 0,
  "metadata": {
    "colab": {
      "provenance": [],
      "authorship_tag": "ABX9TyN6ljGWMhvU4QFBYkM4dEyF",
      "include_colab_link": true
    },
    "kernelspec": {
      "name": "python3",
      "display_name": "Python 3"
    },
    "language_info": {
      "name": "python"
    }
  },
  "cells": [
    {
      "cell_type": "markdown",
      "metadata": {
        "id": "view-in-github",
        "colab_type": "text"
      },
      "source": [
        "<a href=\"https://colab.research.google.com/github/bahador1/fed_shap/blob/main/iid_playground.ipynb\" target=\"_parent\"><img src=\"https://colab.research.google.com/assets/colab-badge.svg\" alt=\"Open In Colab\"/></a>"
      ]
    },
    {
      "cell_type": "code",
      "source": [
        "import random\n",
        "import matplotlib.pyplot as plt\n",
        "import seaborn as sns\n",
        "\n",
        "random.seed(0)"
      ],
      "metadata": {
        "id": "Q3Pg8zA3g4qB"
      },
      "execution_count": 23,
      "outputs": []
    },
    {
      "cell_type": "code",
      "execution_count": 9,
      "metadata": {
        "id": "fPWEOY87gMoM"
      },
      "outputs": [],
      "source": [
        "tempd =list(range(0 , 100))"
      ]
    },
    {
      "cell_type": "code",
      "source": [
        "dataSplit = [[] for i in range(5)]"
      ],
      "metadata": {
        "id": "j3Du_N2Xgafb"
      },
      "execution_count": 10,
      "outputs": []
    },
    {
      "cell_type": "code",
      "source": [
        "for idx, samples in enumerate(tempd):\n",
        "    dataSplit[idx%5].append(samples)"
      ],
      "metadata": {
        "id": "0sqLc0U7gfDB"
      },
      "execution_count": 3,
      "outputs": []
    },
    {
      "cell_type": "code",
      "source": [
        "print(dataSplit[0])"
      ],
      "metadata": {
        "colab": {
          "base_uri": "https://localhost:8080/"
        },
        "id": "Lva8epm9gfkl",
        "outputId": "679315f9-acd3-4f8f-9921-d146c6713bf2"
      },
      "execution_count": 4,
      "outputs": [
        {
          "output_type": "stream",
          "name": "stdout",
          "text": [
            "[0, 5, 10, 15, 20, 25, 30, 35, 40, 45, 50, 55, 60, 65, 70, 75, 80, 85, 90, 95]\n"
          ]
        }
      ]
    },
    {
      "cell_type": "code",
      "source": [
        "print(dataSplit[1])"
      ],
      "metadata": {
        "colab": {
          "base_uri": "https://localhost:8080/"
        },
        "id": "1axekHRnghl0",
        "outputId": "abffca85-99fb-433e-ac8e-3dfc88144b70"
      },
      "execution_count": 5,
      "outputs": [
        {
          "output_type": "stream",
          "name": "stdout",
          "text": [
            "[1, 6, 11, 16, 21, 26, 31, 36, 41, 46, 51, 56, 61, 66, 71, 76, 81, 86, 91, 96]\n"
          ]
        }
      ]
    },
    {
      "cell_type": "code",
      "source": [
        "print(dataSplit[2])"
      ],
      "metadata": {
        "colab": {
          "base_uri": "https://localhost:8080/"
        },
        "id": "x-XpbAvvgire",
        "outputId": "8ce6921a-9ef3-426c-eb1a-dedfa70dcfe2"
      },
      "execution_count": 6,
      "outputs": [
        {
          "output_type": "stream",
          "name": "stdout",
          "text": [
            "[2, 7, 12, 17, 22, 27, 32, 37, 42, 47, 52, 57, 62, 67, 72, 77, 82, 87, 92, 97]\n"
          ]
        }
      ]
    },
    {
      "cell_type": "code",
      "source": [
        "print(len(dataSplit[1]))"
      ],
      "metadata": {
        "colab": {
          "base_uri": "https://localhost:8080/"
        },
        "id": "932e3pYDgiuN",
        "outputId": "c77dd3da-f43a-4778-ba84-15e464b760f3"
      },
      "execution_count": 7,
      "outputs": [
        {
          "output_type": "stream",
          "name": "stdout",
          "text": [
            "20\n"
          ]
        }
      ]
    },
    {
      "cell_type": "markdown",
      "source": [
        "### non_iid\n",
        "- not equal quantity of data and overlap"
      ],
      "metadata": {
        "id": "4PFXTzWjhbsU"
      }
    },
    {
      "cell_type": "code",
      "source": [
        "tempd = list(range(100))\n",
        "dataSplit = [[] for i in range(5)]"
      ],
      "metadata": {
        "id": "e9ambYzngizQ"
      },
      "execution_count": 15,
      "outputs": []
    },
    {
      "cell_type": "code",
      "source": [
        "for idx, sample in enumerate(tempd):\n",
        "    dataSplit[idx%5] += [random.choice(dataset)]"
      ],
      "metadata": {
        "id": "1uyV5GE6iDuL"
      },
      "execution_count": null,
      "outputs": []
    },
    {
      "cell_type": "code",
      "source": [
        "#lets plot it for yourself\n",
        "\n",
        "clientSelection = []\n",
        "for _ in range(1000):\n",
        "    clientSelection.append(random.randint(0, 4))\n",
        "\n",
        "g = sns.histplot(clientSelection, label='foo')\n",
        "\n",
        "plt.show()"
      ],
      "metadata": {
        "colab": {
          "base_uri": "https://localhost:8080/",
          "height": 430
        },
        "id": "mBcqAGA-gi4X",
        "outputId": "96b3ab27-b76d-4be9-c195-57ab9592f27a"
      },
      "execution_count": 34,
      "outputs": [
        {
          "output_type": "display_data",
          "data": {
            "text/plain": [
              "<Figure size 640x480 with 1 Axes>"
            ],
            "image/png": "[encoded data removed]"
          },
          "metadata": {}
        }
      ]
    },
    {
      "cell_type": "code",
      "source": [],
      "metadata": {
        "id": "RMgywrR1gi9L"
      },
      "execution_count": 4,
      "outputs": []
    },
    {
      "cell_type": "code",
      "source": [],
      "metadata": {
        "id": "S4UI5om0gi_p"
      },
      "execution_count": 4,
      "outputs": []
    },
    {
      "cell_type": "code",
      "source": [],
      "metadata": {
        "id": "TPKjsn9dgjCJ"
      },
      "execution_count": null,
      "outputs": []
    }
  ]
}